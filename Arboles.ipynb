{
  "nbformat": 4,
  "nbformat_minor": 0,
  "metadata": {
    "colab": {
      "provenance": [],
      "authorship_tag": "ABX9TyMEN/W8mElo5etXFO4Zw6HP",
      "include_colab_link": true
    },
    "kernelspec": {
      "name": "python3",
      "display_name": "Python 3"
    },
    "language_info": {
      "name": "python"
    }
  },
  "cells": [
    {
      "cell_type": "markdown",
      "metadata": {
        "id": "view-in-github",
        "colab_type": "text"
      },
      "source": [
        "<a href=\"https://colab.research.google.com/github/franklinhamer2727/PDE-machine-Learning/blob/main/Arboles.ipynb\" target=\"_parent\"><img src=\"https://colab.research.google.com/assets/colab-badge.svg\" alt=\"Open In Colab\"/></a>"
      ]
    },
    {
      "cell_type": "code",
      "execution_count": 2,
      "metadata": {
        "id": "m_7lPW8y2RUr"
      },
      "outputs": [],
      "source": [
        "import sklearn\n",
        "assert sklearn.__version__>=\"020\"\n",
        "import pandas as pd\n",
        "import numpy as np\n",
        "import os\n",
        "%matplotlib inline\n",
        "import matplotlib as mpl\n",
        "import matplotlib.pyplot as plt\n",
        "\n",
        "\n",
        "mpl.rc('axes',labelsize=14)\n",
        "mpl.rc('xtick',labelsize=12)\n",
        "mpl.rc('ytick',labelsize=12)\n",
        "\n",
        "import warnings\n",
        "warnings.filterwarnings(action=\"ignore\",message=\"internal gelsd\")"
      ]
    }
  ]
}